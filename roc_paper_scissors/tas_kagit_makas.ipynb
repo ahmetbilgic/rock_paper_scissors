{
 "cells": [
  {
   "cell_type": "code",
   "execution_count": null,
   "metadata": {
    "scrolled": false
   },
   "outputs": [
    {
     "name": "stdout",
     "output_type": "stream",
     "text": [
      "-----------------------------------\n",
      "Taş Kağıt Makas Oyununa Hoşgeldiniz\n",
      "-----------------------------------\n",
      "Kaç tur oynamak istediğinizi giriniz :-10\n",
      "Hatalı tur!\n",
      "\n",
      "Kaç tur oynamak istediğinizi giriniz :2\n",
      "1.tur başladı\n",
      "-----------------------------------\n",
      "Taş için 1\n",
      "Kağıt için 2\n",
      "Makas için 3 ü\n",
      "Tuşlayınız\n",
      "-----------------------------------\n",
      "Secilen :4\n",
      "Geçerli bir değer giriniz\n",
      "\n"
     ]
    }
   ],
   "source": [
    "import random\n",
    "i =0\n",
    "print(\"-\"*35)\n",
    "print(\"Taş Kağıt Makas Oyununa Hoşgeldiniz\")\n",
    "print(\"-\"*35)\n",
    "while 1:\n",
    "    raund =int(input(\"Kaç tur oynamak istediğinizi giriniz :\"))\n",
    "    if raund<1:\n",
    "        print(\"Hatalı tur!\\n\")\n",
    "    else:\n",
    "        break\n",
    "userscore = 0\n",
    "machinescore =0\n",
    "while i <raund :\n",
    "    print(\"{}.tur başladı\".format(i+1))\n",
    "    print(\"-\"*35)\n",
    "    print(\"Taş için 1\\nKağıt için 2\\nMakas için 3 ü\\nTuşlayınız\")\n",
    "    print(\"-\"*35)\n",
    "    machinechoice =random.randint(1,3)\n",
    "    while 1<5:\n",
    "        userchoice = int(input(\"Secilen :\"))\n",
    "        if userchoice >0 and userchoice <4:         \n",
    "            if userchoice == 1:\n",
    "                if machinechoice ==1:\n",
    "                    print(\"İki tarafda TAŞ seçti. Beraberlik \")\n",
    "                elif machinechoice == 2:\n",
    "                    print(\"Kullanıcı TAŞ Seçti\\nMakina KAĞIT Seçti\")\n",
    "                    print(\"Makina kazandı\")\n",
    "                    machinescore+=100\n",
    "                elif machinechoice == 3:\n",
    "                    print(\"Kullanıcı TAŞ Seçti\\nMakina MAKAS Seçti\")\n",
    "                    print(\"Kullanıcı kazandı\")\n",
    "                    userscore+=100\n",
    "            if userchoice == 2:\n",
    "                if machinechoice ==2:\n",
    "                    print(\"İki tarafda KAĞIT seçti. Beraberlik \")\n",
    "                elif machinechoice == 1:\n",
    "                    print(\"Kullanıcı KAĞIT  Seçti\\nMakina TAŞ  Seçti\")\n",
    "                    print(\"Kullanıcı kazandı\")\n",
    "                    userscore+=100\n",
    "                elif machinechoice == 3:\n",
    "                    print(\"Kullanıcı KAĞIT Seçti\\nMakina MAKAS Seçti\")\n",
    "                    print(\"Makina kazandı\")\n",
    "                    machinescore+=100        \n",
    "            if userchoice == 3:\n",
    "                if machinechoice ==3:\n",
    "                    print(\"İki tarafda MAKAS seçti. Beraberlik \")\n",
    "                elif machinechoice == 1:\n",
    "                    print(\"Kullanıcı MAKAS Seçti\\nMakina TAŞ  Seçti\")\n",
    "                    print(\"Makina kazandı\")\n",
    "                    machinescore+=100  \n",
    "                elif machinechoice == 2:\n",
    "                    print(\"Kullanıcı MAKAS Seçti\\nMakina KAĞIT Seçti\")\n",
    "                    print(\"Kullanıcı kazandı\")\n",
    "                    userscore+=100   \n",
    "            break\n",
    "        else:\n",
    "            print(\"Geçerli bir değer giriniz\\n\")\n",
    "        \n",
    "            \n",
    "    print(\"Kullanıcı Score : {} \\nMakina Score : {}\\n\".format(userscore,machinescore))\n",
    "    i+=1\n",
    "    \n",
    "if userscore>machinescore:\n",
    "     print(\"Kullanıcı kazandı\")\n",
    "elif machinescore >userscore:\n",
    "    print(\"Makina kazandı\")\n",
    "else:\n",
    "    print(\"Beraberlikle Sonuçlanmıştır...\")"
   ]
  },
  {
   "cell_type": "code",
   "execution_count": null,
   "metadata": {},
   "outputs": [],
   "source": []
  },
  {
   "cell_type": "code",
   "execution_count": null,
   "metadata": {},
   "outputs": [],
   "source": []
  },
  {
   "cell_type": "code",
   "execution_count": null,
   "metadata": {},
   "outputs": [],
   "source": []
  },
  {
   "cell_type": "code",
   "execution_count": null,
   "metadata": {},
   "outputs": [],
   "source": []
  }
 ],
 "metadata": {
  "kernelspec": {
   "display_name": "Python 3",
   "language": "python",
   "name": "python3"
  },
  "language_info": {
   "codemirror_mode": {
    "name": "ipython",
    "version": 3
   },
   "file_extension": ".py",
   "mimetype": "text/x-python",
   "name": "python",
   "nbconvert_exporter": "python",
   "pygments_lexer": "ipython3",
   "version": "3.7.6"
  }
 },
 "nbformat": 4,
 "nbformat_minor": 4
}
